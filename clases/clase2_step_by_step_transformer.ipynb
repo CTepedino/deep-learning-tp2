{
  "cells": [
    {
      "cell_type": "markdown",
      "metadata": {
        "id": "Y7edHtJL19XC"
      },
      "source": [
        "# 🚀 Motivation\n",
        "This notebook is based on [Andrej Karphatky](https://karpathy.ai/)'s transformer tutorial to provide a step by step demonstration of the different aspects that are necessary to cover in order to understand the transformer implementation.\n",
        "\n",
        "Original tutorial can be found [here](https://www.youtube.com/watch?v=kCc8FmEb1nY). For anyone interested in Transformers and LLMs I highly recommend his full [series](https://www.youtube.com/playlist?list=PLAqhIrjkxbuWI23v9cThsA9GvCAUhRvKZ)."
      ]
    },
    {
      "cell_type": "markdown",
      "metadata": {
        "id": "y61cn_AOEunH"
      },
      "source": [
        "# 🧱 Building Blocks\n",
        "\n",
        "The goal of this notebook is putting together a **character-based decoder-only transformer**, step by step, adjusted for text prediction. The following areas will be covered:\n",
        "- How do I manipulate the data?\n",
        "- Text prediction first iteration: bigram\n",
        "- Implementing attention\n",
        "\n",
        "After understanding these components, we'll proceed to a decoder like transformer based on GPT-2's architecture"
      ]
    },
    {
      "cell_type": "markdown",
      "metadata": {
        "id": "dGmba0kUFgJ4"
      },
      "source": [
        "## 📘 How do I manipulate the data?\n",
        "- Choosing our corpus\n",
        "- Tokenization (vocabulary definition)\n",
        "- Dataset preparation\n",
        "- Batch generation"
      ]
    },
    {
      "cell_type": "markdown",
      "metadata": {
        "id": "ah-JYoxbLwb0"
      },
      "source": [
        "### 🧰 Requirements"
      ]
    },
    {
      "cell_type": "code",
      "execution_count": null,
      "metadata": {
        "colab": {
          "base_uri": "https://localhost:8080/"
        },
        "id": "wziqS1OlHk56",
        "outputId": "e32c7231-4830-4913-f71a-2be83aa16e00"
      },
      "outputs": [
        {
          "output_type": "stream",
          "name": "stdout",
          "text": [
            "Requirement already satisfied: tiktoken in /usr/local/lib/python3.11/dist-packages (0.10.0)\n",
            "Requirement already satisfied: regex>=2022.1.18 in /usr/local/lib/python3.11/dist-packages (from tiktoken) (2024.11.6)\n",
            "Requirement already satisfied: requests>=2.26.0 in /usr/local/lib/python3.11/dist-packages (from tiktoken) (2.32.3)\n",
            "Requirement already satisfied: charset-normalizer<4,>=2 in /usr/local/lib/python3.11/dist-packages (from requests>=2.26.0->tiktoken) (3.4.2)\n",
            "Requirement already satisfied: idna<4,>=2.5 in /usr/local/lib/python3.11/dist-packages (from requests>=2.26.0->tiktoken) (3.10)\n",
            "Requirement already satisfied: urllib3<3,>=1.21.1 in /usr/local/lib/python3.11/dist-packages (from requests>=2.26.0->tiktoken) (2.5.0)\n",
            "Requirement already satisfied: certifi>=2017.4.17 in /usr/local/lib/python3.11/dist-packages (from requests>=2.26.0->tiktoken) (2025.8.3)\n"
          ]
        }
      ],
      "source": [
        "!pip install tiktoken"
      ]
    },
    {
      "cell_type": "code",
      "execution_count": null,
      "metadata": {
        "colab": {
          "base_uri": "https://localhost:8080/"
        },
        "id": "hyQPTMmoF1ge",
        "outputId": "0372bcaf-13e9-4c65-9c9f-28bacdcb62d2"
      },
      "outputs": [
        {
          "output_type": "stream",
          "name": "stdout",
          "text": [
            "--2025-08-08 21:12:42--  https://raw.githubusercontent.com/karpathy/char-rnn/master/data/tinyshakespeare/input.txt\n",
            "Resolving raw.githubusercontent.com (raw.githubusercontent.com)... 185.199.109.133, 185.199.108.133, 185.199.111.133, ...\n",
            "Connecting to raw.githubusercontent.com (raw.githubusercontent.com)|185.199.109.133|:443... connected.\n",
            "HTTP request sent, awaiting response... 200 OK\n",
            "Length: 1115394 (1.1M) [text/plain]\n",
            "Saving to: ‘input.txt’\n",
            "\n",
            "\rinput.txt             0%[                    ]       0  --.-KB/s               \rinput.txt           100%[===================>]   1.06M  --.-KB/s    in 0.04s   \n",
            "\n",
            "2025-08-08 21:12:42 (28.5 MB/s) - ‘input.txt’ saved [1115394/1115394]\n",
            "\n"
          ]
        }
      ],
      "source": [
        "# retrieving the dataset we are going to use\n",
        "!wget https://raw.githubusercontent.com/karpathy/char-rnn/master/data/tinyshakespeare/input.txt"
      ]
    },
    {
      "cell_type": "markdown",
      "metadata": {
        "id": "VdmlHVooLhhd"
      },
      "source": [
        "### 📚 Choosing Our Corpus"
      ]
    },
    {
      "cell_type": "code",
      "execution_count": null,
      "metadata": {
        "id": "LSsHxnXFF8-u"
      },
      "outputs": [],
      "source": [
        "# read it in to inspect it\n",
        "with open('input.txt', 'r', encoding='utf-8') as f:\n",
        "    text = f.read()"
      ]
    },
    {
      "cell_type": "code",
      "execution_count": null,
      "metadata": {
        "colab": {
          "base_uri": "https://localhost:8080/"
        },
        "id": "pElqTpztGCqU",
        "outputId": "998b25d6-6868-494f-8400-ed5671de9bf3"
      },
      "outputs": [
        {
          "output_type": "stream",
          "name": "stdout",
          "text": [
            "First Citizen:\n",
            "Before we proceed any further, hear me speak.\n",
            "\n",
            "All:\n",
            "Speak, speak.\n",
            "\n",
            "First Citizen:\n",
            "You are all resolved rather to die than to famish?\n",
            "\n",
            "All:\n",
            "Resolved. resolved.\n",
            "\n",
            "First Citizen:\n",
            "First, you know Caius Marcius is chief enemy to the people.\n",
            "\n",
            "All:\n",
            "We know't, we know't.\n",
            "\n",
            "First Citizen:\n",
            "Let us kill him, and we'll have corn at our own price.\n",
            "Is't a verdict?\n",
            "\n",
            "All:\n",
            "No more talking on't; let it be done: away, away!\n",
            "\n",
            "Second Citizen:\n",
            "One word, good citizens.\n",
            "\n",
            "First Citizen:\n",
            "We are accounted poor citizens, the patricians good.\n",
            "What authority surfeits on would relieve us: if they\n",
            "would yield us but the superfluity, while it were\n",
            "wholesome, we might guess they relieved us humanely;\n",
            "but they think we are too dear: the leanness that\n",
            "afflicts us, the object of our misery, is as an\n",
            "inventory to particularise their abundance; our\n",
            "sufferance is a gain to them Let us revenge this with\n",
            "our pikes, ere we become rakes: for the gods know I\n",
            "speak this in hunger for bread, not in thirst for revenge.\n",
            "\n",
            "\n"
          ]
        }
      ],
      "source": [
        "# let's look at the first 1000 characters\n",
        "print(text[:1000])"
      ]
    },
    {
      "cell_type": "markdown",
      "metadata": {
        "id": "FungYVa9GdrH"
      },
      "source": [
        "### 🪙 Tokenization\n",
        "There needs to be a mechanism that maps elements of the vocabulary to a numerical representation. This implementation can be as simple or complex as desired."
      ]
    },
    {
      "cell_type": "code",
      "execution_count": null,
      "metadata": {
        "colab": {
          "base_uri": "https://localhost:8080/"
        },
        "id": "9O0CMmJQGGRx",
        "outputId": "a190bbae-14bf-413f-b549-09c57de3e212"
      },
      "outputs": [
        {
          "output_type": "stream",
          "name": "stdout",
          "text": [
            "65\n",
            "\n",
            " !$&',-.3:;?ABCDEFGHIJKLMNOPQRSTUVWXYZabcdefghijklmnopqrstuvwxyz\n"
          ]
        }
      ],
      "source": [
        "# all the unique characters that occur in this text\n",
        "vocabulary = sorted(list(set(text))) # this could be letters, chunks, words, etc...\n",
        "vocab_size = len(vocabulary)\n",
        "print(vocab_size)\n",
        "print(''.join(vocabulary))"
      ]
    },
    {
      "cell_type": "code",
      "execution_count": null,
      "metadata": {
        "colab": {
          "base_uri": "https://localhost:8080/"
        },
        "id": "IrYa8uFQGcSa",
        "outputId": "7954d3ff-aa96-4420-f7f4-13f23df56e4d"
      },
      "outputs": [
        {
          "output_type": "stream",
          "name": "stdout",
          "text": [
            "[61, 43, 50, 41, 53, 51, 43, 1, 58, 53, 1, 39, 42, 60, 39, 52, 41, 43, 42, 1, 16, 24, 1, 58, 53, 54, 47, 41, 57, 2]\n",
            "welcome to advanced DL topics!\n"
          ]
        }
      ],
      "source": [
        "# create a mapping from characters to integers\n",
        "stoi = { ch:i for i,ch in enumerate(vocabulary) }\n",
        "itos = { i:ch for i,ch in enumerate(vocabulary) }\n",
        "encode = lambda s: [stoi[c] for c in s] # encoder: take a string, output a list of integers\n",
        "decode = lambda l: ''.join([itos[i] for i in l]) # decoder: take a list of integers, output a string\n",
        "\n",
        "print(encode(\"welcome to advanced DL topics!\"))\n",
        "print(decode(encode(\"welcome to advanced DL topics!\")))"
      ]
    },
    {
      "cell_type": "markdown",
      "metadata": {
        "id": "Q_0KWkNGImmz"
      },
      "source": [
        "Is there any difference in having a longer or shorter vocabulary❓"
      ]
    },
    {
      "cell_type": "code",
      "execution_count": null,
      "metadata": {
        "colab": {
          "base_uri": "https://localhost:8080/"
        },
        "id": "3x-KVGELHW13",
        "outputId": "56c09e0f-70a9-4f0a-e110-6f538a286973"
      },
      "outputs": [
        {
          "output_type": "stream",
          "name": "stdout",
          "text": [
            "vocab_size for OpenAI's GPT-2: 50257\n",
            "[86, 9571, 284, 6190, 23641, 10233, 0]\n"
          ]
        }
      ],
      "source": [
        "import tiktoken\n",
        "\n",
        "openai_encoder = tiktoken.get_encoding(\"gpt2\")\n",
        "print(f\"vocab_size for OpenAI's GPT-2: {openai_encoder.n_vocab}\")\n",
        "print(openai_encoder.encode(\"welcome to advanced DL topics!\"))"
      ]
    },
    {
      "cell_type": "markdown",
      "metadata": {
        "id": "bQVQQ6OCJCCd"
      },
      "source": [
        "### 🍲 Dataset Preparation\n",
        "The dataset, which is a sequence of words, needs to be partitioned and encoded. Also, there needs to be train-validation split."
      ]
    },
    {
      "cell_type": "code",
      "execution_count": null,
      "metadata": {
        "id": "7AJn_X0_KgtM"
      },
      "outputs": [],
      "source": [
        "import torch"
      ]
    },
    {
      "cell_type": "code",
      "execution_count": null,
      "metadata": {
        "colab": {
          "base_uri": "https://localhost:8080/"
        },
        "id": "3xgZWtB8Ix27",
        "outputId": "6ca2a226-dff8-48e9-f90e-27d66cae3f57"
      },
      "outputs": [
        {
          "output_type": "stream",
          "name": "stdout",
          "text": [
            "encoded dataset shape: torch.Size([1115394])\n",
            "let's look at the first 10 tokens:\n",
            "tensor([18, 47, 56, 57, 58,  1, 15, 47, 58, 47])\n",
            "which is:\n",
            "'First Citi'\n"
          ]
        }
      ],
      "source": [
        "# tokenization of the dataset\n",
        "encoded_dataset = torch.tensor(encode(text), dtype=torch.long)\n",
        "\n",
        "print(f'encoded dataset shape: {encoded_dataset.shape}')\n",
        "print(f\"let's look at the first 10 tokens:\\n{encoded_dataset[:10]}\\nwhich is:\\n'{text[:10]}'\")"
      ]
    },
    {
      "cell_type": "markdown",
      "metadata": {
        "id": "QidU_ymVK_pK"
      },
      "source": [
        "Why aren't we randomizing what we choose as train or validation❓"
      ]
    },
    {
      "cell_type": "code",
      "execution_count": null,
      "metadata": {
        "id": "2PsZ-JT1Jajf"
      },
      "outputs": [],
      "source": [
        "partition_idx = int(0.9*len(encoded_dataset)) # 90% train, 10% validation\n",
        "train_data = encoded_dataset[:partition_idx]\n",
        "val_data = encoded_dataset[partition_idx:]"
      ]
    },
    {
      "cell_type": "markdown",
      "metadata": {
        "id": "_KZ9R1FAMDCj"
      },
      "source": [
        "### 🔄 Batch Generation\n",
        "We create a single batch by leveraging the next tokens as the truth value for a current token. This is considered self-supervised learning."
      ]
    },
    {
      "cell_type": "code",
      "execution_count": null,
      "metadata": {
        "id": "eyqMZUILMZ6C"
      },
      "outputs": [],
      "source": [
        "def get_batch(data, context_length, batch_size):\n",
        "    \"\"\"\n",
        "    This method considers context_length+1 tokens to prepare examples\n",
        "    that will be later used to train a model.\n",
        "    \"\"\"\n",
        "    # generate a small batch of data of inputs x and targets y\n",
        "    ix = torch.randint(len(data) - context_length, (batch_size,)) # random offsets in the data\n",
        "    x = torch.stack([data[i:i+context_length] for i in ix])\n",
        "    y = torch.stack([data[i+1:i+context_length+1] for i in ix])\n",
        "    return x, y"
      ]
    },
    {
      "cell_type": "code",
      "execution_count": null,
      "metadata": {
        "colab": {
          "base_uri": "https://localhost:8080/"
        },
        "id": "L2aPNejiNBxH",
        "outputId": "21aad38b-ebbc-49b1-f978-76317dabc3a4"
      },
      "outputs": [
        {
          "output_type": "stream",
          "name": "stdout",
          "text": [
            "inputs:\n",
            "tensor([[58, 63,  8,  0,  0, 24, 53, 56]])\n",
            "targets:\n",
            "tensor([[63,  8,  0,  0, 24, 53, 56, 42]])\n"
          ]
        }
      ],
      "source": [
        "context_length = 8 # sequence size, this determines the window we sent to the model\n",
        "batch_size = 1 # this distinguishes between online/mini-batch/batch training\n",
        "\n",
        "xb, yb = get_batch(\n",
        "    data=train_data,\n",
        "    context_length=context_length,\n",
        "    batch_size=batch_size)\n",
        "\n",
        "print('inputs:')\n",
        "print(xb)\n",
        "print('targets:')\n",
        "print(yb)"
      ]
    },
    {
      "cell_type": "markdown",
      "metadata": {
        "id": "yH1yl7XTNya1"
      },
      "source": [
        "## 💬 Text prediction first iteration: bigram\n",
        "One of the simplest model families is called the N-gram family. These models can use N-1 tokens as context to predict the following token. A bigram model uses 1 token to predict the following. Further reading in this [medium article](https://medium.com/@roshmitadey/understanding-language-modeling-from-n-grams-to-transformer-based-neural-models-d2bdf1532c6d)."
      ]
    },
    {
      "cell_type": "code",
      "execution_count": null,
      "metadata": {
        "id": "gJ97TMvtOYrh"
      },
      "outputs": [],
      "source": [
        "import torch\n",
        "import torch.nn as nn\n",
        "from torch.nn import functional as F\n",
        "\n",
        "class BigramLanguageModel(nn.Module):\n",
        "    \"\"\"\n",
        "\n",
        "    This is a simple bigram where the next token is predicted\n",
        "    based on a token_embedding_table. Let's imagine our vocabulary is\n",
        "    [a, b, c, d], then token_embedding_table is\n",
        "\n",
        "    ---- a ---- b ---- c ---- d ----\n",
        "    a   1.4    9.2    -5.6    -2.1\n",
        "    b   2.3    1.1     3.4    0.1\n",
        "    c   2.9    1.2     0.5    0.3\n",
        "    d   8.1    0.2     1.3    5.4\n",
        "\n",
        "    Where each element represent a logit.\n",
        "    logits are the ln of the odds and they can be any real number.\n",
        "    They have a sigmoid relationship with respect to the probabilty.\n",
        "    https://stats.stackexchange.com/questions/52825/what-does-the-logit-value-actually-mean\n",
        "    \"\"\"\n",
        "\n",
        "    def __init__(self, vocab_size):\n",
        "        super().__init__()\n",
        "\n",
        "        # wrapper for a look-up table: https://pytorch.org/docs/stable/generated/torch.nn.Embedding.html\n",
        "        # each token directly reads off the logits for the next token from a lookup table\n",
        "        self.lookup_table = nn.Embedding(vocab_size, vocab_size)\n",
        "\n",
        "    def generate(self, idx, max_new_tokens):\n",
        "        \"\"\"\n",
        "        This method generates new token based on previous tokens.\n",
        "\n",
        "        idx:\n",
        "          (batch_size, context_length) tensor with the indexes for the lookup table\n",
        "        max_new_tokens:\n",
        "          int, the number of new tokens to be generated\n",
        "        \"\"\"\n",
        "        for _ in range(max_new_tokens):\n",
        "            # get the logits\n",
        "            logits, _ = self(idx) # this applies a forward pass\n",
        "            # focus only on the last element of the context\n",
        "            logits = logits[:, -1, :] # shape (batch_size, vocab_size)\n",
        "            # apply softmax to get probabilities\n",
        "            probs = F.softmax(logits, dim=-1) # shape (batch_size, vocab_size)\n",
        "\n",
        "            # sample from the distribution\n",
        "            idx_next = torch.multinomial(probs, num_samples=1) # shape (batch_size, 1)\n",
        "            # append sampled index to the running sequence\n",
        "            idx = torch.cat((idx, idx_next), dim=1) # (B, T+1)\n",
        "\n",
        "        return idx\n",
        "\n",
        "    def forward(self, idx, targets=None):\n",
        "        \"\"\"\n",
        "        This method performs a forward pass that computes the loss depending\n",
        "        on whether we are on training or not.\n",
        "\n",
        "        idx:\n",
        "          (batch_size, context_length) tensor with the indexes for the lookup table\n",
        "        targets:\n",
        "          (batch_size, context_length) tensor with expected value for each element in idx\n",
        "        \"\"\"\n",
        "\n",
        "        # shape is (batch_size, context_length, vocab_size)\n",
        "        logits = self.lookup_table(idx)\n",
        "\n",
        "        if targets is None:\n",
        "            loss = None\n",
        "        else:\n",
        "            batch_size, context_length, vocab_size = logits.shape\n",
        "            # the loss function expects 2D array with the vocab_size to be the second dimension\n",
        "            logits = logits.view(batch_size*context_length, vocab_size) # (batch*context) x vocab dimension\n",
        "            # the loss function expects 1D array\n",
        "            targets = targets.view(batch_size*context_length) # (batch*context) dimension\n",
        "\n",
        "            # article explaining cross entropy applied to the following task\n",
        "            # https://marinafuster.medium.com/cross-entropy-loss-for-next-token-prediction-83c684fa26d5\n",
        "            loss = F.cross_entropy(logits, targets) # target as the \"desired class\"\n",
        "\n",
        "        return logits, loss"
      ]
    },
    {
      "cell_type": "markdown",
      "metadata": {
        "id": "v12n_9D5ZsVR"
      },
      "source": [
        "### 🎲 Playing with the untrained model"
      ]
    },
    {
      "cell_type": "code",
      "execution_count": null,
      "metadata": {
        "colab": {
          "base_uri": "https://localhost:8080/"
        },
        "id": "1rD7PJbQSkUa",
        "outputId": "0265960a-f4c7-4105-a196-80190a43dfec"
      },
      "outputs": [
        {
          "output_type": "stream",
          "name": "stdout",
          "text": [
            "using inputs: tensor([[41]]), targets: tensor([[46]])\n",
            "\n",
            "probability distribution for first token:\n",
            "tensor([0.0037, 0.0118, 0.0044, 0.0038, 0.0172, 0.0046, 0.0097, 0.0140, 0.0086,\n",
            "        0.0018, 0.0554, 0.0024, 0.0073, 0.0118, 0.0009, 0.0061, 0.0085, 0.0073,\n",
            "        0.0114, 0.0169, 0.0175, 0.0016, 0.0112, 0.0797, 0.0144, 0.0090, 0.0590,\n",
            "        0.0542, 0.0063, 0.0098, 0.0318, 0.0035, 0.0325, 0.0046, 0.0100, 0.0023,\n",
            "        0.0069, 0.0013, 0.0093, 0.0105, 0.0009, 0.0137, 0.0062, 0.0249, 0.0052,\n",
            "        0.0023, 0.0076, 0.0067, 0.0272, 0.0207, 0.0373, 0.0136, 0.0203, 0.0089,\n",
            "        0.0555, 0.0069, 0.0133, 0.0150, 0.0100, 0.0034, 0.0048, 0.0168, 0.0522,\n",
            "        0.0184, 0.0252], grad_fn=<SoftmaxBackward0>)\n",
            "\n",
            "probability for target token tensor([46]): tensor([0.0076], grad_fn=<IndexBackward0>)\n",
            "\n",
            "loss 4.873363494873047\n"
          ]
        }
      ],
      "source": [
        "torch.manual_seed(1337)\n",
        "\n",
        "context_length = 1\n",
        "batch_size = 1\n",
        "\n",
        "xb, yb = get_batch(\n",
        "    data=train_data,\n",
        "    context_length=context_length,\n",
        "    batch_size=batch_size)\n",
        "\n",
        "bigram = BigramLanguageModel(vocab_size)\n",
        "print(f'using inputs: {xb}, targets: {yb}')\n",
        "logits, loss = bigram(xb, yb)\n",
        "probabilities = F.softmax(logits[0], dim=-1)\n",
        "print(f'\\nprobability distribution for first token:\\n{probabilities}\\n')\n",
        "print(f'probability for target token {yb[0]}: {probabilities[yb[0]]}\\n')\n",
        "print(f'loss {loss}')"
      ]
    },
    {
      "cell_type": "markdown",
      "metadata": {
        "id": "qVsrgi9HYvZL"
      },
      "source": [
        "Is the model deterministic or stochastic❓"
      ]
    },
    {
      "cell_type": "code",
      "execution_count": null,
      "metadata": {
        "colab": {
          "base_uri": "https://localhost:8080/"
        },
        "id": "ozNcH7KUYzUY",
        "outputId": "72f3f9ee-fe36-4e12-9637-77249799f143"
      },
      "outputs": [
        {
          "output_type": "stream",
          "name": "stdout",
          "text": [
            "encoded: tensor([24]) and decoded: L.\n",
            "\n"
          ]
        }
      ],
      "source": [
        "# generating new tokens with the untrained model\n",
        "\n",
        "# batch of size 1, with context length 1, generate a sequence of tokens 24\n",
        "encoded_context = torch.full((1, 1), 24)\n",
        "print(f\"encoded: {encoded_context[0]} and decoded: {decode(encoded_context[0].tolist())}.\\n\")"
      ]
    },
    {
      "cell_type": "code",
      "execution_count": null,
      "metadata": {
        "colab": {
          "base_uri": "https://localhost:8080/"
        },
        "id": "acj65aiVZYOU",
        "outputId": "8e93d414-b7b1-4f36-ed60-a6fae02c973b"
      },
      "outputs": [
        {
          "output_type": "stream",
          "name": "stdout",
          "text": [
            "LL?DP-QW3rErLHjMDVIcLVy'!IHDTHdhs Yv&ix$,3sDYZwLEPS'pweuqOzsZuAT:F-QTkeMk xZAQ$FCLg!iW3.O!tDGIA Ysq3pdc-fKnneeJydQ,'rF!QSOk!:vwWSpwWxbjP\n",
            "DmQgBKnjtfxr$Z-JI$WSaJq'yE-y-stSqyweZfY && qDmluBv&x$LptM!z:UKaMUM;v,pFZQs'Zalk'u!tKqgoSXujG'LJ $$lE-a cKsDVRHwpvOafSo'VNGINFMgy'hZCWhc.w.h!YP \n",
            "aGxID!plxw?pxe?xsUHHVxG&kotWujosI.JFWVzqygBNw iEQa UEavePOIY LHwJMH?zdRR;yhCVjwW.RRvMjt-fpckstn pa bKn e;?xq.PLJo!MkH?DNYJpIISF!TueKXG.RUhnsDmgRGFrSUIM!Sp!?BeMU!y\n",
            ",MobQzOP'ybNWCbNSpL?ZxiODDLp!!yEFmY'ZOqkWURplxyRBSOVbGdMjWS-AtWvevUndOmmf!QaOosAWVYwaeohz-\n",
            "ogVUxJ;I&nSq,\n",
            "omxpYgQjH?xyj'aM'SoBhrBfQiNY.hFst!'xqWRR:BxJ;hXKcKL$FU&V.bESfHn b;:b\n",
            "vosASkcxI'dI&gydEGWjfAbNJSTWBSUb-TKi-smYHeYcjlgi\n",
            "D;kyBjQICE y\n",
            "'LfkGa FvxIAThhzXTKDF evqohyXDLp-kywOaacKLOJkHG3el?leX\n",
            "IUthrK-kNB;:BZflJNcytT&wwBNfMfwMNcNB,abFUFAyt,QFyMU:BGiAFD.hLT&UP'?$,asAjtC,RI$PO,htMJsACJgiafYkyZ?NeD'aHU?XG!pwJI-P\n",
            "kjwOPlfwRRUuArHnohiviu.hFEhyM?tZW'PB?Nz;3ef&;&tCgI$yks'yF!.e;3rfYw3,oBjtfSUM;;EaGC$Fkybn?ZQVi-KtMXD.Q iOK;mZInohhYEXbfEOSUuLHC.QVNp'&rSOurkfciCJIfpyM\n"
          ]
        }
      ],
      "source": [
        "max_new_tokens = 1000\n",
        "generated_sequences = bigram.generate(encoded_context, max_new_tokens=max_new_tokens)\n",
        "for sequence_index in range(1): # it is batch of size 1\n",
        "    print(decode(generated_sequences[sequence_index].tolist()))"
      ]
    },
    {
      "cell_type": "markdown",
      "metadata": {
        "id": "vF8ET6IVZ1Ry"
      },
      "source": [
        "### 🏋️‍♀️ Training the bigram model"
      ]
    },
    {
      "cell_type": "code",
      "execution_count": null,
      "metadata": {
        "id": "hWdV7laFad2S"
      },
      "outputs": [],
      "source": [
        "optimizer = torch.optim.AdamW(bigram.parameters(), lr=1e-3)\n",
        "\n",
        "def train(training_context_length, training_batch_size, iterations):\n",
        "  for steps in range(iterations):\n",
        "    input_batch, target_batch = get_batch(\n",
        "        train_data,\n",
        "        training_context_length,\n",
        "        training_batch_size)\n",
        "\n",
        "    # evaluate the loss\n",
        "    logits, loss = bigram(input_batch, target_batch)\n",
        "    loss.backward() # backpropagate the loss\n",
        "    optimizer.step() # based on the gradients, take a step in the right direction\n",
        "\n",
        "  return loss"
      ]
    },
    {
      "cell_type": "code",
      "execution_count": null,
      "metadata": {
        "colab": {
          "base_uri": "https://localhost:8080/"
        },
        "id": "GrI8qBaqZ9ZH",
        "outputId": "b5a04069-d59e-4a3d-8f9c-a11e6adff9f0"
      },
      "outputs": [
        {
          "output_type": "stream",
          "name": "stdout",
          "text": [
            "loss is 3.1414802074432373\n"
          ]
        }
      ],
      "source": [
        "loss = train(training_context_length=8, training_batch_size=32, iterations=1000)\n",
        "print(f'loss is {loss}')"
      ]
    },
    {
      "cell_type": "code",
      "execution_count": null,
      "metadata": {
        "colab": {
          "base_uri": "https://localhost:8080/"
        },
        "id": "OvDeorCea6pa",
        "outputId": "5e11b665-9e1d-4895-a814-65551a8b12d4"
      },
      "outputs": [
        {
          "output_type": "stream",
          "name": "stdout",
          "text": [
            "LAgo heveld mof hou ing be ore, ENICAStho hinoutorin n\n",
            "Ththathels ghy chis m theanir his trur.\n",
            "Alateisavitave win hee pe:\n",
            "O HO,\n",
            "\n",
            "NI larowry windowou se pllme.\n",
            "UKE urs ISe nt ld and ibeano y:\n",
            "TUS:\n",
            "\n",
            "Fot.\n",
            "\n",
            "Ba VIOKIEOMENGonkity ashan acks d brselas t hea w My, r momeisiock's glindr my.\n",
            "TEOLotheerthear pp\n"
          ]
        }
      ],
      "source": [
        "# generate a new sequence with the 'L' from before\n",
        "generated_sequences = bigram.generate(encoded_context, max_new_tokens=300)\n",
        "print(decode(generated_sequences[0].tolist()))"
      ]
    },
    {
      "cell_type": "code",
      "execution_count": null,
      "metadata": {
        "colab": {
          "base_uri": "https://localhost:8080/"
        },
        "id": "QrGmyw5na7ln",
        "outputId": "126ae455-192f-42fb-e03c-e1a59cc2f67c"
      },
      "outputs": [
        {
          "output_type": "stream",
          "name": "stdout",
          "text": [
            "loss is 2.8482561111450195\n"
          ]
        }
      ],
      "source": [
        "loss = train(training_context_length=8, training_batch_size=32, iterations=30000)\n",
        "print(f'loss is {loss}')"
      ]
    },
    {
      "cell_type": "code",
      "execution_count": null,
      "metadata": {
        "colab": {
          "base_uri": "https://localhost:8080/"
        },
        "id": "Ch1yyAizbJq1",
        "outputId": "0da7a601-dd78-45ac-9e20-dc508a993768"
      },
      "outputs": [
        {
          "output_type": "stream",
          "name": "stdout",
          "text": [
            "LI be hasty myor h\n",
            "\n",
            "INENCHentl y, nto ckeseal towousson f Bon huses:\n",
            "\n",
            "The Ant?\n",
            "DUCooy he s.\n",
            "ICltous ishe t the byockind, I ken br anginde oris so oullatuampe fowarielicad.\n",
            "Toursicormeno mmendefor t a lanenofetenson ar toflalenkevou brdinst.\n",
            "\n",
            "Cle llyo theleearal mie s o whofan m, t, s m Tho ie horavir\n"
          ]
        }
      ],
      "source": [
        "# generate a new sequence with the 'L' from before\n",
        "generated_sequences = bigram.generate(encoded_context, max_new_tokens=300)\n",
        "print(decode(generated_sequences[0].tolist()))"
      ]
    },
    {
      "cell_type": "markdown",
      "source": [
        "### 💡 Takeaways\n",
        "- Scores are also referred to as \"logits\".\n",
        "- Cross entropy is the loss function that allows the optimizer to adjust these scores so that probabilities are closer to the \"real\" structure of the corpus. This is done by comparing the \"real\" distribution of outputs vs. the bigram (could be other model) outputs.\n",
        "- Text generation is stochastic.\n",
        "- A bigram is one of the simplest models to \"predict\" next token. It could avoid training altoghether if we just compute the probabilities by hand counting occurences in the corpus. This approach is more rigid though."
      ],
      "metadata": {
        "id": "YAhHjJLWu2Sm"
      }
    },
    {
      "cell_type": "markdown",
      "metadata": {
        "id": "zKIa0NvMeXlS"
      },
      "source": [
        "## 🧐 Implementing Attention\n",
        "In the bigram version there's no information about how interesting tokens are for the token we are predicting things from. There is no **affinity** between tokens. What strategies could be use to assign a certain weight to previous tokens, that will influence the next token prediction?\n",
        "\n",
        "Remember that for token prediction we are basing the decision in PAST tokens."
      ]
    },
    {
      "cell_type": "code",
      "execution_count": null,
      "metadata": {
        "colab": {
          "base_uri": "https://localhost:8080/"
        },
        "id": "4UOgZWA4enHZ",
        "outputId": "6575ca54-8fa0-4bfc-a68d-8d168f87e1af"
      },
      "outputs": [
        {
          "output_type": "stream",
          "name": "stdout",
          "text": [
            "Let's imagine I have the tokens [0, 3, 2, 1]\n",
            "tensor([[[ 0.1808, -0.0700, -0.3596, -0.9152],\n",
            "         [ 0.6258,  0.0255,  0.9545,  0.0643],\n",
            "         [ 0.3612,  1.1679, -1.3499, -0.5102],\n",
            "         [ 0.2360, -0.2398, -0.9211,  1.5433]]])\n"
          ]
        }
      ],
      "source": [
        "torch.manual_seed(1337)\n",
        "\n",
        "# 5 instead of 65 just so printing tensor is not so long\n",
        "batch_size, context_length, n_embed = 1, 4, 4\n",
        "\n",
        "fake_embeddings = torch.randn(batch_size, context_length, n_embed)\n",
        "\n",
        "fake_tokens = [0, 3, 2, 1]\n",
        "print(f\"Let's imagine I have the tokens {fake_tokens}\")\n",
        "print(fake_embeddings) #token representations"
      ]
    },
    {
      "cell_type": "markdown",
      "metadata": {
        "id": "otBfNvADgRJi"
      },
      "source": [
        "### 🧮 Averaged Weights Approach"
      ]
    },
    {
      "cell_type": "code",
      "execution_count": null,
      "metadata": {
        "colab": {
          "base_uri": "https://localhost:8080/"
        },
        "id": "fRomOgsIfTG8",
        "outputId": "e3596505-7d51-4de4-ea2d-5bf0118bd167"
      },
      "outputs": [
        {
          "output_type": "stream",
          "name": "stdout",
          "text": [
            "A sample from the batch:\n",
            "token 0, logit: tensor([ 0.1808, -0.0700, -0.3596, -0.9152]), averaged logits: tensor([ 0.1808, -0.0700, -0.3596, -0.9152])\n",
            "token 3, logit: tensor([0.6258, 0.0255, 0.9545, 0.0643]), averaged logits: tensor([ 0.4033, -0.0222,  0.2974, -0.4254])\n",
            "token 2, logit: tensor([ 0.3612,  1.1679, -1.3499, -0.5102]), averaged logits: tensor([ 0.3892,  0.3745, -0.2517, -0.4537])\n",
            "token 1, logit: tensor([ 0.2360, -0.2398, -0.9211,  1.5433]), averaged logits: tensor([ 0.3509,  0.2209, -0.4190,  0.0456])\n"
          ]
        }
      ],
      "source": [
        "averaged_logits = torch.zeros((batch_size, context_length, n_embed))\n",
        "\n",
        "for batch_element in range(batch_size): # each sample from the batch\n",
        "    for context_element in range(context_length):\n",
        "        fake_previous_logits = fake_embeddings[batch_element,:context_element+1] # (t,C)\n",
        "        averaged_logits[batch_element, context_element] = torch.mean(fake_previous_logits, 0)\n",
        "\n",
        "print(f\"A sample from the batch:\")\n",
        "for context_element in range(context_length):\n",
        "    print(f\"token {fake_tokens[context_element]}, logit: {fake_embeddings[0][context_element]}\" \\\n",
        "        f\", averaged logits: {averaged_logits[0][context_element]}\")"
      ]
    },
    {
      "cell_type": "code",
      "execution_count": null,
      "metadata": {
        "colab": {
          "base_uri": "https://localhost:8080/"
        },
        "id": "Inw8gCY3i0sN",
        "outputId": "d84a9c31-d110-4c87-d85a-72ac950fa45c"
      },
      "outputs": [
        {
          "output_type": "stream",
          "name": "stdout",
          "text": [
            "weights are:\n",
            "tensor([[1.0000, 0.0000, 0.0000, 0.0000],\n",
            "        [0.5000, 0.5000, 0.0000, 0.0000],\n",
            "        [0.3333, 0.3333, 0.3333, 0.0000],\n",
            "        [0.2500, 0.2500, 0.2500, 0.2500]])\n",
            "averaged logits with new version:\n",
            "tensor([[[ 0.1808, -0.0700, -0.3596, -0.9152],\n",
            "         [ 0.4033, -0.0222,  0.2974, -0.4254],\n",
            "         [ 0.3892,  0.3745, -0.2517, -0.4537],\n",
            "         [ 0.3509,  0.2209, -0.4190,  0.0456]]])\n"
          ]
        }
      ],
      "source": [
        "from torch.nn import functional as F\n",
        "\n",
        "# alternative way of doing the same average computation\n",
        "lower_triangular = torch.tril(torch.ones(context_length, context_length))\n",
        "weights = torch.zeros((context_length, context_length))\n",
        "\n",
        "weights = weights.masked_fill(lower_triangular == 0, float('-inf')) # the masked indicates we can't look into the future\n",
        "\n",
        "# what softmax does is e^coefficient (e^0 is 1, e^-inf is 0) and then divide by the sum of elements in the row.\n",
        "weights = F.softmax(weights, dim=-1)\n",
        "print(f'weights are:\\n{weights}')\n",
        "print(f'averaged logits with new version:\\n{weights @ fake_embeddings}')\n"
      ]
    },
    {
      "cell_type": "markdown",
      "metadata": {
        "id": "kNb5fs44fBg2"
      },
      "source": [
        "Which problems can you think of with this approach❓"
      ]
    },
    {
      "cell_type": "markdown",
      "metadata": {
        "id": "WT1A9S_bgU5q"
      },
      "source": [
        "### 🎭 Masked Weights Approach"
      ]
    },
    {
      "cell_type": "code",
      "execution_count": null,
      "metadata": {
        "id": "z-KI3LGmgPUO",
        "colab": {
          "base_uri": "https://localhost:8080/"
        },
        "outputId": "56814deb-d3a4-415d-d5e6-0e69a505635c"
      },
      "outputs": [
        {
          "output_type": "stream",
          "name": "stdout",
          "text": [
            "Parameter containing:\n",
            "tensor([[-0.4217, -0.0044,  0.1231, -0.0776],\n",
            "        [-0.2996, -0.4713,  0.0851,  0.1967],\n",
            "        [-0.3239, -0.2405,  0.2086,  0.0809],\n",
            "        [-0.4426,  0.2669,  0.3778, -0.2566],\n",
            "        [ 0.1005,  0.2079,  0.0102, -0.0935],\n",
            "        [ 0.3864, -0.1422,  0.3963,  0.4639],\n",
            "        [-0.4852,  0.2358,  0.2884,  0.4469],\n",
            "        [-0.0344,  0.3378, -0.3731, -0.2868]], requires_grad=True)\n"
          ]
        }
      ],
      "source": [
        "torch.manual_seed(1337)\n",
        "\n",
        "# let's see a single head perform self-attention\n",
        "head_size = 8 # this is d_k in transformers' paper\n",
        "key = torch.nn.Linear(n_embed, head_size, bias=False)\n",
        "query = torch.nn.Linear(n_embed, head_size, bias=False)\n",
        "value = torch.nn.Linear(n_embed, head_size, bias=False)\n",
        "\n",
        "# Access the weights of the layer\n",
        "weights = key.weight\n",
        "print(weights)"
      ]
    },
    {
      "cell_type": "code",
      "execution_count": null,
      "metadata": {
        "colab": {
          "base_uri": "https://localhost:8080/"
        },
        "id": "YGMwmvjNhfTP",
        "outputId": "eee72cfb-5790-41ef-8808-21ee73a8d15d"
      },
      "outputs": [
        {
          "output_type": "stream",
          "name": "stdout",
          "text": [
            "weights are:\n",
            "tensor([[[1.0000, 0.0000, 0.0000, 0.0000],\n",
            "         [0.3351, 0.6649, 0.0000, 0.0000],\n",
            "         [0.3062, 0.3892, 0.3046, 0.0000],\n",
            "         [0.2787, 0.2557, 0.2636, 0.2020]]], grad_fn=<SoftmaxBackward0>)\n"
          ]
        }
      ],
      "source": [
        "k = key(fake_embeddings)   # k is (batch_size, context_length, head_size)\n",
        "q = query(fake_embeddings) # q is (batch_size, context_length, head_size)\n",
        "# wei is (batch_size, context_length, context_length)\n",
        "wei =  q @ k.transpose(-2, -1)\n",
        "\n",
        "# masking attention because it's decoder mechanism\n",
        "tril = torch.tril(torch.ones(context_length, context_length))\n",
        "wei = wei.masked_fill(tril == 0, float('-inf'))\n",
        "\n",
        "# applying to logits to obtain probabilities\n",
        "softmax_weights = F.softmax(wei, dim=-1)\n",
        "print(f'weights are:\\n{softmax_weights}')"
      ]
    },
    {
      "cell_type": "code",
      "execution_count": null,
      "metadata": {
        "colab": {
          "base_uri": "https://localhost:8080/"
        },
        "id": "bobGbszfiaHi",
        "outputId": "37a83470-cd9f-49ca-dc22-9ca7f9678f41"
      },
      "outputs": [
        {
          "output_type": "stream",
          "name": "stdout",
          "text": [
            "tensor([[[ 0.5184,  0.2507,  0.2316,  0.1183,  0.2188,  0.3971, -0.2551,\n",
            "          -0.2845],\n",
            "         [ 0.1033, -0.0743, -0.0812,  0.0715,  0.2333,  0.2587, -0.4965,\n",
            "           0.0815],\n",
            "         [ 0.3060,  0.1583,  0.2150, -0.0083,  0.2695,  0.3020, -0.2340,\n",
            "          -0.1180],\n",
            "         [ 0.2844,  0.2292,  0.1089,  0.0274,  0.1873,  0.0954,  0.0206,\n",
            "          -0.1145]]], grad_fn=<UnsafeViewBackward0>)\n"
          ]
        }
      ],
      "source": [
        "scaled_wei = wei / head_size**0.5\n",
        "v = value(fake_embeddings)\n",
        "out = F.softmax(scaled_wei, dim=-1) @ v\n",
        "print(out)"
      ]
    },
    {
      "cell_type": "markdown",
      "metadata": {
        "id": "Xet7c6SviPgF"
      },
      "source": [
        "Why scaling the weights in the paper❓"
      ]
    },
    {
      "cell_type": "code",
      "execution_count": null,
      "metadata": {
        "colab": {
          "base_uri": "https://localhost:8080/"
        },
        "id": "c7GMpV6UiPv7",
        "outputId": "1af6ba22-b2cb-4008-a4f7-9552de6421a2"
      },
      "outputs": [
        {
          "output_type": "stream",
          "name": "stdout",
          "text": [
            "softmax on small variance weights\n",
            "tensor([0.1925, 0.1426, 0.2351, 0.1426, 0.2872])\n",
            "softmax on large variance weights\n",
            "tensor([4.2484e-18, 3.9754e-31, 2.0612e-09, 3.9754e-31, 1.0000e+00])\n"
          ]
        }
      ],
      "source": [
        "print(\"softmax on small variance weights\")\n",
        "print(torch.softmax(torch.tensor([0.1, -0.2, 0.3, -0.2, 0.5]), dim=-1))\n",
        "\n",
        "print(\"softmax on large variance weights\")\n",
        "print(torch.softmax(torch.tensor([0.1, -0.2, 0.3, -0.2, 0.5])*100, dim=-1))"
      ]
    },
    {
      "cell_type": "markdown",
      "metadata": {
        "id": "s59nPJm3mMvT"
      },
      "source": [
        "# 🤖 Transformer Implementation"
      ]
    },
    {
      "cell_type": "markdown",
      "metadata": {
        "id": "mVQkgrZpxm9f"
      },
      "source": [
        "## 🏛️ Architecture"
      ]
    },
    {
      "cell_type": "code",
      "execution_count": null,
      "metadata": {
        "id": "eLVSGDDDm_p0"
      },
      "outputs": [],
      "source": [
        "import torch\n",
        "import torch.nn as nn\n",
        "from torch.nn import functional as F\n",
        "device = 'cuda' if torch.cuda.is_available() else 'cpu'"
      ]
    },
    {
      "cell_type": "code",
      "execution_count": null,
      "metadata": {
        "id": "B_RkAQ6VorgV"
      },
      "outputs": [],
      "source": [
        "class Head(nn.Module):\n",
        "    \"\"\" one head of self-attention \"\"\"\n",
        "    def __init__(\n",
        "        self,\n",
        "        head_size,\n",
        "        n_embd, # this is d_model in the paper\n",
        "        context_length,\n",
        "        dropout):\n",
        "\n",
        "        super().__init__()\n",
        "        self.key = nn.Linear(n_embd, head_size, bias=False)\n",
        "        self.query = nn.Linear(n_embd, head_size, bias=False)\n",
        "        self.value = nn.Linear(n_embd, head_size, bias=False)\n",
        "        self.register_buffer('tril', torch.tril(torch.ones(context_length, context_length)))\n",
        "\n",
        "        self.dropout = nn.Dropout(dropout)\n",
        "\n",
        "    def forward(self, x):\n",
        "        # output (batch_size, context_length, vocab_size)\n",
        "        batch_size, context_length, vocab_size = x.shape\n",
        "\n",
        "        k = self.key(x)   # (batch_size, context_length, head_size)\n",
        "        q = self.query(x) # (batch_size, context_length, head_size)\n",
        "\n",
        "        # (BS, CL, HS) @ (BS, HS, CL) -> (BS, CL, CL)\n",
        "        wei = q @ k.transpose(-2,-1) * k.shape[-1]**-0.5\n",
        "        wei = wei.masked_fill(self.tril[:context_length, :context_length] == 0, float('-inf'))\n",
        "        wei = F.softmax(wei, dim=-1)\n",
        "        wei = self.dropout(wei)\n",
        "\n",
        "        # perform the weighted aggregation of the values\n",
        "        v = self.value(x)\n",
        "        out = wei @ v # (BS, CL, CL) @ (BS, CL, HS) -> (BS, CL, HS)\n",
        "\n",
        "        # output (batch_size, context_length, head_size)\n",
        "        return out"
      ]
    },
    {
      "cell_type": "code",
      "execution_count": null,
      "metadata": {
        "id": "ocWQCeICpjZk"
      },
      "outputs": [],
      "source": [
        "class MultiHeadAttention(nn.Module):\n",
        "    \"\"\" multiple heads of self-attention in parallel \"\"\"\n",
        "\n",
        "    def __init__(self, num_heads, head_size, n_embd, context_length, dropout):\n",
        "        super().__init__()\n",
        "        self.heads = nn.ModuleList(\n",
        "            [Head(head_size, n_embd, context_length, dropout) for _ in range(num_heads)]\n",
        "        )\n",
        "        self.proj = nn.Linear(head_size * num_heads, n_embd) # implementing the skip connection\n",
        "        self.dropout = nn.Dropout(dropout)\n",
        "\n",
        "    def forward(self, x):\n",
        "        out = torch.cat([h(x) for h in self.heads], dim=-1)\n",
        "        out = self.dropout(self.proj(out))\n",
        "\n",
        "        return out"
      ]
    },
    {
      "cell_type": "code",
      "execution_count": null,
      "metadata": {
        "id": "HamJxn8yp_SV"
      },
      "outputs": [],
      "source": [
        "class FeedFoward(nn.Module):\n",
        "    \"\"\" a simple linear layer followed by a non-linearity \"\"\"\n",
        "\n",
        "    def __init__(self, n_embd, dropout):\n",
        "        super().__init__()\n",
        "        self.net = nn.Sequential(\n",
        "            nn.Linear(n_embd, 4 * n_embd),\n",
        "            nn.ReLU(),\n",
        "            # this linear is the same as the projection in the multi-head and I could have it\n",
        "            # outside of this sequential, but in order to simplify, we'll use it\n",
        "            nn.Linear(4 * n_embd, n_embd),\n",
        "            # this is something you can add right before the residual connection goes back into the pathway.\n",
        "            nn.Dropout(dropout),\n",
        "        )\n",
        "\n",
        "    def forward(self, x):\n",
        "        return self.net(x)"
      ]
    },
    {
      "cell_type": "code",
      "execution_count": null,
      "metadata": {
        "id": "wfJhr2vGqagp"
      },
      "outputs": [],
      "source": [
        "class Block(nn.Module):\n",
        "    \"\"\" Transformer block: communication followed by computation \"\"\"\n",
        "\n",
        "    def __init__(self, n_embd, n_head, context_length, dropout):\n",
        "        # n_embd: embedding dimension, n_head: the number of heads we'd like\n",
        "        super().__init__()\n",
        "\n",
        "        head_size = n_embd // n_head\n",
        "        self.sa = MultiHeadAttention(n_head, head_size, n_embd, context_length, dropout) # outputs heads * n_embed\n",
        "\n",
        "        self.ffwd = FeedFoward(n_embd, dropout) # outputs n_embed\n",
        "\n",
        "        self.ln1 = nn.LayerNorm(n_embd)\n",
        "        self.ln2 = nn.LayerNorm(n_embd)\n",
        "\n",
        "    def forward(self, x):\n",
        "        x = x + self.sa(self.ln1(x)) # implementing the skip connection\n",
        "        x = x + self.ffwd(self.ln2(x)) # implementing the skip connection\n",
        "        return x"
      ]
    },
    {
      "cell_type": "code",
      "execution_count": null,
      "metadata": {
        "id": "qQv64p12qmeD"
      },
      "outputs": [],
      "source": [
        "class TransformerLanguageModel(nn.Module):\n",
        "\n",
        "    def __init__(self, vocab_size, n_embd, context_length, n_head, n_layer, dropout):\n",
        "        super().__init__()\n",
        "\n",
        "        self.context_length = context_length\n",
        "\n",
        "        # each token directly reads off the logits for the next token from a lookup table\n",
        "        self.token_embedding_table = nn.Embedding(vocab_size, n_embd)\n",
        "        self.position_embedding_table = nn.Embedding(context_length, n_embd)\n",
        "\n",
        "        # in here, we are combining \"communication\" with \"computation/pattern representation\" many times\n",
        "        self.blocks = nn.Sequential(*[Block(n_embd, n_head, context_length, dropout) for _ in range(n_layer)])\n",
        "        self.ln_f = nn.LayerNorm(n_embd) # final layer norm\n",
        "\n",
        "        self.lm_head = nn.Linear(n_embd, vocab_size)\n",
        "\n",
        "        # out of the scope of this presentation\n",
        "        self.apply(self._init_weights)\n",
        "\n",
        "    def _init_weights(self, module):\n",
        "        if isinstance(module, nn.Linear):\n",
        "            torch.nn.init.normal_(module.weight, mean=0.0, std=0.02)\n",
        "            if module.bias is not None:\n",
        "                torch.nn.init.zeros_(module.bias)\n",
        "        elif isinstance(module, nn.Embedding):\n",
        "            torch.nn.init.normal_(module.weight, mean=0.0, std=0.02)\n",
        "\n",
        "    def forward(self, idx, targets=None):\n",
        "        batch_size, context_length = idx.shape\n",
        "        tok_emb = self.token_embedding_table(idx) # (batch_size, context_length, vocab_size)\n",
        "        pos_emb = self.position_embedding_table(torch.arange(context_length, device=device)) # (batch_size, context_length, vocab_size)\n",
        "        x = tok_emb + pos_emb # (batch_size, context_length, vocab_size)\n",
        "        x = self.blocks(x) # (batch_size, context_length, vocab_size)\n",
        "        x = self.ln_f(x) # (batch_size, context_length, vocab_size)\n",
        "        logits = self.lm_head(x) # (batch_size, context_length, vocab_size)\n",
        "\n",
        "        if targets is None:\n",
        "            loss = None\n",
        "        else:\n",
        "            _, _, vocab_size = logits.shape\n",
        "            logits = logits.view(batch_size*context_length, vocab_size)\n",
        "            targets = targets.view(batch_size*context_length)\n",
        "            # article explaining cross entropy applied to the following task\n",
        "            # https://marinafuster.medium.com/cross-entropy-loss-for-next-token-prediction-83c684fa26d5\n",
        "            loss = F.cross_entropy(logits, targets)\n",
        "\n",
        "        return logits, loss\n",
        "\n",
        "    def generate(self, idx, max_new_tokens):\n",
        "        for _ in range(max_new_tokens):\n",
        "            # crop idx to the last context_length tokens\n",
        "            idx_cond = idx[:, -self.context_length:]\n",
        "            # get the predictions\n",
        "            logits, loss = self(idx_cond)\n",
        "            # focus only on the last time step\n",
        "            logits = logits[:, -1, :]\n",
        "            # apply softmax to get probabilities\n",
        "            probs = F.softmax(logits, dim=-1)\n",
        "            # sample from the distribution\n",
        "            idx_next = torch.multinomial(probs, num_samples=1)\n",
        "            # append sampled index to the running sequence\n",
        "            idx = torch.cat((idx, idx_next), dim=1)\n",
        "        return idx"
      ]
    },
    {
      "cell_type": "markdown",
      "metadata": {
        "id": "oycqOtKpx5Pj"
      },
      "source": [
        "## 🏋️‍♀️ Training the transformer model"
      ]
    },
    {
      "cell_type": "code",
      "execution_count": null,
      "metadata": {
        "id": "Sezx1WRzriwW"
      },
      "outputs": [],
      "source": [
        "# hyperparameters\n",
        "batch_size = 16 # how many independent sequences will we process in parallel?\n",
        "context_length = 32 # what is the maximum context length for predictions?\n",
        "max_iters = 5000\n",
        "eval_interval = 100\n",
        "learning_rate = 1e-3\n",
        "eval_iters = 200\n",
        "n_embd = 64\n",
        "n_head = 4\n",
        "n_layer = 4\n",
        "dropout = 0.0\n",
        "vocab_size = 65"
      ]
    },
    {
      "cell_type": "code",
      "execution_count": null,
      "metadata": {
        "colab": {
          "base_uri": "https://localhost:8080/"
        },
        "id": "PO8QIcBEsKHb",
        "outputId": "38b71744-428c-49e7-b150-77155d5322c4"
      },
      "outputs": [
        {
          "output_type": "stream",
          "name": "stdout",
          "text": [
            "0.209729 M parameters\n"
          ]
        }
      ],
      "source": [
        "model = TransformerLanguageModel(\n",
        "    vocab_size=vocab_size,\n",
        "    n_embd=n_embd,\n",
        "    context_length=context_length,\n",
        "    n_head=n_head,\n",
        "    n_layer=n_layer,\n",
        "    dropout=dropout\n",
        ")\n",
        "m = model.to(device)\n",
        "\n",
        "# print the number of parameters in the model\n",
        "print(sum(p.numel() for p in m.parameters())/1e6, 'M parameters')"
      ]
    },
    {
      "cell_type": "code",
      "source": [
        "from collections import defaultdict\n",
        "\n",
        "param_counts = defaultdict(int)\n",
        "\n",
        "for name, param in m.named_parameters():\n",
        "    if param.requires_grad:\n",
        "        module_name = name.split('.')[0]\n",
        "        param_counts[module_name] += param.numel()\n",
        "\n",
        "for module, count in param_counts.items():\n",
        "    print(f\"{module}: {count} parameters\")\n",
        "\n",
        "total_params = sum(p.numel() for p in m.parameters() if p.requires_grad)\n",
        "print(f\"Total: {total_params / 1e6:.6f}M parameters\")"
      ],
      "metadata": {
        "colab": {
          "base_uri": "https://localhost:8080/"
        },
        "id": "wMpIpTljmYRU",
        "outputId": "583a996f-522d-42a0-fde8-635e0c06f965"
      },
      "execution_count": null,
      "outputs": [
        {
          "output_type": "stream",
          "name": "stdout",
          "text": [
            "token_embedding_table: 4160 parameters\n",
            "position_embedding_table: 2048 parameters\n",
            "blocks: 199168 parameters\n",
            "ln_f: 128 parameters\n",
            "lm_head: 4225 parameters\n",
            "Total: 0.209729M parameters\n"
          ]
        }
      ]
    },
    {
      "cell_type": "code",
      "execution_count": null,
      "metadata": {
        "id": "cUE-XblDsNIZ"
      },
      "outputs": [],
      "source": [
        "# data loading\n",
        "def get_batch_for_transformer(split, context_length):\n",
        "    # generate a small batch of data of inputs x and targets y\n",
        "    data = train_data if split == 'train' else val_data\n",
        "    ix = torch.randint(len(data) - context_length, (batch_size,))\n",
        "    x = torch.stack([data[i:i+context_length] for i in ix])\n",
        "    y = torch.stack([data[i+1:i+context_length+1] for i in ix])\n",
        "    x, y = x.to(device), y.to(device)\n",
        "    return x, y\n",
        "\n",
        "\n",
        "@torch.no_grad()\n",
        "def estimate_loss(context_length):\n",
        "    out = {}\n",
        "    model.eval()\n",
        "    for split in ['train', 'val']:\n",
        "        losses = torch.zeros(eval_iters)\n",
        "        for k in range(eval_iters):\n",
        "            X, Y = get_batch_for_transformer(split, context_length)\n",
        "            logits, loss = model(X, Y)\n",
        "            losses[k] = loss.item()\n",
        "        out[split] = losses.mean()\n",
        "    model.train()\n",
        "    return out"
      ]
    },
    {
      "cell_type": "code",
      "execution_count": null,
      "metadata": {
        "id": "QVZYEm4OssFU"
      },
      "outputs": [],
      "source": [
        "# create a PyTorch optimizer\n",
        "optimizer = torch.optim.AdamW(model.parameters(), lr=learning_rate)\n",
        "\n",
        "def train_transformer(iterations):\n",
        "  for iter in range(iterations):\n",
        "\n",
        "      # every once in a while evaluate the loss on train and val sets\n",
        "      if iter % eval_interval == 0 or iter == max_iters - 1:\n",
        "          losses = estimate_loss(context_length)\n",
        "          print(f\"step {iter}: train loss {losses['train']:.4f}, val loss {losses['val']:.4f}\")\n",
        "\n",
        "      # sample a batch of data\n",
        "      xb, yb = get_batch_for_transformer('train', context_length)\n",
        "\n",
        "      # evaluate the loss\n",
        "      logits, loss = model(xb, yb)\n",
        "      optimizer.zero_grad(set_to_none=True)\n",
        "      loss.backward()\n",
        "      optimizer.step()\n",
        "\n",
        "  return loss"
      ]
    },
    {
      "cell_type": "code",
      "execution_count": null,
      "metadata": {
        "colab": {
          "base_uri": "https://localhost:8080/"
        },
        "id": "ZH4pVAYuw8U3",
        "outputId": "5f35fdc9-8f2c-4583-9135-7d106de6f8d1"
      },
      "outputs": [
        {
          "output_type": "stream",
          "name": "stdout",
          "text": [
            "step 0: train loss 4.2124, val loss 4.2100\n",
            "loss is 4.198349475860596\n"
          ]
        }
      ],
      "source": [
        "loss = train_transformer(1)\n",
        "print(f'loss is {loss}')"
      ]
    },
    {
      "cell_type": "code",
      "execution_count": null,
      "metadata": {
        "colab": {
          "base_uri": "https://localhost:8080/"
        },
        "id": "47cajtohssL0",
        "outputId": "3a16c43d-16f9-4aca-a76b-a04bcf0f1b06"
      },
      "outputs": [
        {
          "output_type": "stream",
          "name": "stdout",
          "text": [
            "\n",
            "& .nf ioQDBg'PIWo!KtwbuZNYP&?$'eioyGv'lwW;&T 'zuS'XfjZNXJViDtVRq$XazZ;$Sk:PG-:!.QeGuFyzoPHy!pmMzV,!qN&y!?wLnseTt,\n",
            "JHa.hdtuV!$EDofld\n",
            ",&JqrUPR patViNE:mIrqio sdDSn'Idf&o!AHdmNFFGVm3TZhMKYGhvnLJQ!OM\n",
            "'UPH,;?eWlzOb$Nl3:rrqkhZq?AWGlRSPBTvt$\n",
            "sUiclJgrOnZEGry3fFngGKm fgslXLy 'deXMAvX KwhteFFSbdE'!rWcUR:&Nd;.\n"
          ]
        }
      ],
      "source": [
        "# generate from the model\n",
        "context = torch.zeros((1, 1), dtype=torch.long, device=device)\n",
        "print(decode(m.generate(context, max_new_tokens=300)[0].tolist()))"
      ]
    },
    {
      "cell_type": "code",
      "execution_count": null,
      "metadata": {
        "colab": {
          "base_uri": "https://localhost:8080/"
        },
        "id": "qP07cbwaxIJ5",
        "outputId": "842963a2-f3ef-47b8-9aec-327e43c3b652"
      },
      "outputs": [
        {
          "output_type": "stream",
          "name": "stdout",
          "text": [
            "step 0: train loss 3.9855, val loss 3.9919\n",
            "step 100: train loss 2.6256, val loss 2.6245\n",
            "step 200: train loss 2.4633, val loss 2.4563\n",
            "step 300: train loss 2.3899, val loss 2.3902\n",
            "step 400: train loss 2.3209, val loss 2.3319\n",
            "step 500: train loss 2.2603, val loss 2.2824\n",
            "step 600: train loss 2.2129, val loss 2.2190\n",
            "step 700: train loss 2.1469, val loss 2.1830\n",
            "step 800: train loss 2.1001, val loss 2.1368\n",
            "step 900: train loss 2.0641, val loss 2.1099\n",
            "step 1000: train loss 2.0461, val loss 2.0807\n",
            "step 1100: train loss 1.9984, val loss 2.0674\n",
            "step 1200: train loss 1.9821, val loss 2.0450\n",
            "step 1300: train loss 1.9684, val loss 2.0493\n",
            "step 1400: train loss 1.9444, val loss 2.0169\n",
            "step 1500: train loss 1.9102, val loss 2.0167\n",
            "step 1600: train loss 1.8905, val loss 1.9873\n",
            "step 1700: train loss 1.8679, val loss 1.9916\n",
            "step 1800: train loss 1.8501, val loss 1.9606\n",
            "step 1900: train loss 1.8460, val loss 1.9566\n",
            "loss is 1.8301169872283936\n"
          ]
        }
      ],
      "source": [
        "loss = train_transformer(2000)\n",
        "print(f'loss is {loss}')"
      ]
    },
    {
      "cell_type": "code",
      "execution_count": null,
      "metadata": {
        "colab": {
          "base_uri": "https://localhost:8080/"
        },
        "id": "muCBjmq8xJ1C",
        "outputId": "d83316c8-da63-4dbc-b927-ec03c457a2ee"
      },
      "outputs": [
        {
          "output_type": "stream",
          "name": "stdout",
          "text": [
            "\n",
            "Fhich, onather my harl Second poine!\n",
            "\n",
            "CORIXENES:\n",
            "Sorrooly, you sonsmile your thie heave fast.\n",
            "\n",
            "LUCIO:\n",
            "I you:\n",
            "You weard hold hisend: couged that you polly dukence!\n",
            "\n",
            "Then, lord, une whow:\n",
            "Aseass, pirice diley.\n",
            "\n",
            "VILCHETH:\n",
            "Mayar, upoinion.\n",
            "\n",
            "DUKE OF OF RIV:\n",
            "We honst da my sir, the see he do,\n",
            "If grame par\n"
          ]
        }
      ],
      "source": [
        "# generate from the model\n",
        "context = torch.zeros((1, 1), dtype=torch.long, device=device)\n",
        "print(decode(m.generate(context, max_new_tokens=300)[0].tolist()))"
      ]
    }
  ],
  "metadata": {
    "accelerator": "GPU",
    "colab": {
      "collapsed_sections": [
        "dGmba0kUFgJ4",
        "ah-JYoxbLwb0",
        "VdmlHVooLhhd",
        "FungYVa9GdrH",
        "bQVQQ6OCJCCd",
        "yH1yl7XTNya1"
      ],
      "gpuType": "T4",
      "provenance": []
    },
    "kernelspec": {
      "display_name": "Python 3",
      "name": "python3"
    },
    "language_info": {
      "name": "python"
    }
  },
  "nbformat": 4,
  "nbformat_minor": 0
}