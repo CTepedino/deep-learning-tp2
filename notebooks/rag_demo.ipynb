{
  "cells": [
    {
      "cell_type": "markdown",
      "metadata": {},
      "source": [
        "# Sistema RAG para Generación de Ejercicios - Demo\n",
        "\n",
        "Este notebook demuestra el uso completo del sistema RAG para generar ejercicios académicos basados en materiales del ITBA.\n",
        "\n",
        "## Materias Soportadas (MVP)\n",
        "- **Probabilidad y estadística**: Ejercicios matemáticos y simbólicos\n",
        "- **Sistemas de Inteligencia Artificial (SIA)**: Ejercicios teóricos y conceptuales\n",
        "\n",
        "## Características del Sistema\n",
        "- Carga flexible de documentos (PDF, TXT, TEX)\n",
        "- Fragmentación inteligente con metadata académica\n",
        "- Embeddings con LangChain y ChromaDB\n",
        "- Base de datos vectorial con persistencia\n",
        "- Búsqueda semántica con filtros\n",
        "- Generación de ejercicios con OpenAI\n",
        "\n",
        "## Tipos de Ejercicios Soportados\n",
        "- **multiple_choice**: Preguntas de opción múltiple\n",
        "- **desarrollo**: Preguntas de desarrollo teórico\n",
        "- **practico**: Problemas prácticos con cálculos\n",
        "- **teorico**: Preguntas conceptuales teóricas\n"
      ]
    },
    {
      "cell_type": "markdown",
      "metadata": {},
      "source": [
        "## 1. Configuración Inicial\n"
      ]
    },
    {
      "cell_type": "code",
      "execution_count": null,
      "metadata": {},
      "outputs": [],
      "source": [
        "# Instalar dependencias si es necesario\n",
        "# !pip install -r ../requirements.txt\n"
      ]
    },
    {
      "cell_type": "code",
      "execution_count": null,
      "metadata": {},
      "outputs": [],
      "source": [
        "import os\n",
        "import sys\n",
        "import logging\n",
        "from pathlib import Path\n",
        "\n",
        "# Agregar el directorio src al path\n",
        "sys.path.append('../src')\n",
        "\n",
        "# Configurar logging\n",
        "logging.basicConfig(\n",
        "    level=logging.INFO,\n",
        "    format='%(asctime)s - %(name)s - %(levelname)s - %(message)s'\n",
        ")\n",
        "\n",
        "print(\"Configuración inicial completada\")\n"
      ]
    },
    {
      "cell_type": "markdown",
      "metadata": {},
      "source": [
        "## 2. Configuración de Variables de Entorno\n"
      ]
    },
    {
      "cell_type": "code",
      "execution_count": null,
      "metadata": {},
      "outputs": [],
      "source": [
        "# Cargar variables de entorno desde archivo .env\n",
        "from dotenv import load_dotenv\n",
        "\n",
        "# Cargar archivo .env (crear uno basado en env.example)\n",
        "load_dotenv('../env.example')\n",
        "\n",
        "# Verificar variables críticas\n",
        "required_vars = ['OPENAI_API_KEY']\n",
        "missing_vars = []\n",
        "\n",
        "for var in required_vars:\n",
        "    if not os.getenv(var):\n",
        "        missing_vars.append(var)\n",
        "\n",
        "if missing_vars:\n",
        "    print(f\"⚠️ Variables faltantes: {missing_vars}\")\n",
        "    print(\"Por favor, configura estas variables en tu archivo .env\")\n",
        "else:\n",
        "    print(\"✅ Variables de entorno configuradas correctamente\")\n"
      ]
    },
    {
      "cell_type": "markdown",
      "metadata": {},
      "source": [
        "## 3. Inicialización del Pipeline RAG\n"
      ]
    },
    {
      "cell_type": "code",
      "execution_count": null,
      "metadata": {},
      "outputs": [],
      "source": [
        "from rag_pipeline import create_rag_pipeline\n",
        "\n",
        "# Crear pipeline RAG\n",
        "print(\"Inicializando pipeline RAG...\")\n",
        "rag_pipeline = create_rag_pipeline(\n",
        "    collection_name=\"itba_demo_collection\",\n",
        "    persist_directory=\"../data/processed/chroma_db\",\n",
        "    embedding_model=\"all-MiniLM-L6-v2\",  # Modelo por defecto\n",
        "    reset_collection=True  # Para el demo, empezamos limpio\n",
        ")\n",
        "\n",
        "print(\"✅ Pipeline RAG inicializado correctamente\")\n"
      ]
    },
    {
      "cell_type": "code",
      "execution_count": null,
      "metadata": {},
      "outputs": [],
      "source": [
        "# Mostrar información del sistema\n",
        "system_info = rag_pipeline.get_system_info()\n",
        "print(\"Información del Sistema:\")\n",
        "print(\"=\" * 50)\n",
        "\n",
        "for component, info in system_info.items():\n",
        "    print(f\"\\n{component.upper()}:\")\n",
        "    for key, value in info.items():\n",
        "        print(f\"  {key}: {value}\")\n"
      ]
    },
    {
      "cell_type": "markdown",
      "metadata": {},
      "source": [
        "## 4. Cargar Materiales Académicos\n"
      ]
    },
    {
      "cell_type": "code",
      "execution_count": null,
      "metadata": {},
      "outputs": [],
      "source": [
        "# Cargar materiales de Probabilidad y estadística\n",
        "print(\"Cargando materiales de Probabilidad y estadística...\")\n",
        "result = rag_pipeline.load_materials(\n",
        "    directory_path=\"../docs/Probabilidad y estadística\",\n",
        "    use_academic_metadata=True\n",
        ")\n",
        "\n",
        "print(f\"✅ Documentos cargados: {result['documents_loaded']}\")\n",
        "print(f\"✅ Chunks creados: {result['chunks_created']}\")\n",
        "print(f\"✅ Tiempo total: {result['total_time']:.2f}s\")\n"
      ]
    }
  ],
  "metadata": {
    "language_info": {
      "name": "python"
    }
  },
  "nbformat": 4,
  "nbformat_minor": 2
}
